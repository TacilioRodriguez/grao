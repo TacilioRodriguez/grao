{
 "cells": [
  {
   "cell_type": "code",
   "execution_count": 0,
   "metadata": {
    "application/vnd.databricks.v1+cell": {
     "cellMetadata": {
      "byteLimit": 2048000,
      "rowLimit": 10000
     },
     "inputWidgets": {},
     "nuid": "2d402974-7064-4b18-b152-72a9df974fa8",
     "showTitle": false,
     "tableResultSettingsMap": {},
     "title": ""
    }
   },
   "outputs": [],
   "source": [
    "from pyspark.sql.functions import sequence, explode, date_format, col, year, month, dayofmonth, expr"
   ]
  },
  {
   "cell_type": "code",
   "execution_count": 0,
   "metadata": {
    "application/vnd.databricks.v1+cell": {
     "cellMetadata": {
      "byteLimit": 2048000,
      "rowLimit": 10000
     },
     "inputWidgets": {},
     "nuid": "f6491c0f-3ea2-481d-ab12-f4dbc25be569",
     "showTitle": false,
     "tableResultSettingsMap": {},
     "title": ""
    }
   },
   "outputs": [],
   "source": [
    "# Define o range de datas desejado\n",
    "data_inicio = \"2020-01-01\"\n",
    "data_fim = \"2030-12-31\"\n",
    "\n",
    "# Cria DataFrame com sequência de datas\n",
    "df_calendario = (\n",
    "    spark\n",
    "    .range(1)\n",
    "    .select(sequence(expr(f\"to_date('{data_inicio}')\"), expr(f\"to_date('{data_fim}')\")).alias(\"datas\"))\n",
    "    .select(explode(col(\"datas\")).alias(\"data\"))\n",
    ")\n",
    "\n",
    "# Dicionários para tradução de dias da semana e meses\n",
    "dias_semana_pt = {\n",
    "    \"Monday\": \"segunda-feira\",\n",
    "    \"Tuesday\": \"terça-feira\",\n",
    "    \"Wednesday\": \"quarta-feira\",\n",
    "    \"Thursday\": \"quinta-feira\",\n",
    "    \"Friday\": \"sexta-feira\",\n",
    "    \"Saturday\": \"sábado\",\n",
    "    \"Sunday\": \"domingo\"\n",
    "}\n",
    "meses_pt = {\n",
    "    \"January\": \"janeiro\",\n",
    "    \"February\": \"fevereiro\",\n",
    "    \"March\": \"março\",\n",
    "    \"April\": \"abril\",\n",
    "    \"May\": \"maio\",\n",
    "    \"June\": \"junho\",\n",
    "    \"July\": \"julho\",\n",
    "    \"August\": \"agosto\",\n",
    "    \"September\": \"setembro\",\n",
    "    \"October\": \"outubro\",\n",
    "    \"November\": \"novembro\",\n",
    "    \"December\": \"dezembro\"\n",
    "}\n",
    "\n",
    "# Cria UDFs para tradução\n",
    "from pyspark.sql.functions import udf\n",
    "from pyspark.sql.types import StringType\n",
    "\n",
    "@udf(StringType())\n",
    "def traduz_dia_semana(dia_en):\n",
    "    return dias_semana_pt.get(dia_en, dia_en)\n",
    "\n",
    "@udf(StringType())\n",
    "def traduz_mes(mes_en):\n",
    "    return meses_pt.get(mes_en, mes_en)\n",
    "\n",
    "from pyspark.sql.functions import date_format\n",
    "\n",
    "df_calendario = (\n",
    "    df_calendario\n",
    "    .withColumn(\"dia_semana_en\", date_format(col(\"data\"), \"EEEE\"))\n",
    "    .withColumn(\"mes_en\", date_format(col(\"data\"), \"MMMM\"))\n",
    "    .withColumn(\"dia_semana\", traduz_dia_semana(col(\"dia_semana_en\")))\n",
    "    .withColumn(\"mes\", traduz_mes(col(\"mes_en\")))\n",
    "    .withColumn(\"ano\", year(col(\"data\")))\n",
    "    .withColumn(\"dia\", dayofmonth(col(\"data\")))\n",
    "    .withColumn(\"data_completa\", \n",
    "        expr(\"concat(dia_semana, ', ', dia, ' de ', mes, ' de ', ano)\")\n",
    "    )\n",
    "    .withColumn(\"data_ddMMyyyy\", date_format(col(\"data\"), \"dd-MM-yyyy\"))\n",
    "    .drop(\"dia_semana_en\", \"mes_en\")\n",
    ")\n",
    "\n",
    "# Salva como tabela bronze.calendario\n",
    "df_calendario.write.mode(\"overwrite\").format(\"delta\").saveAsTable(\"grao.bronze.calendario\")"
   ]
  }
 ],
 "metadata": {
  "application/vnd.databricks.v1+notebook": {
   "computePreferences": {
    "hardware": {
     "accelerator": null,
     "gpuPoolId": null,
     "memory": null
    }
   },
   "dashboards": [],
   "environmentMetadata": {
    "base_environment": "",
    "environment_version": "2"
   },
   "inputWidgetPreferences": null,
   "language": "python",
   "notebookMetadata": {
    "pythonIndentUnit": 4
   },
   "notebookName": "ntb_create_tb_calendario",
   "widgets": {}
  },
  "language_info": {
   "name": "python"
  }
 },
 "nbformat": 4,
 "nbformat_minor": 0
}
