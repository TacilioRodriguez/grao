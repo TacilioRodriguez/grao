{
 "cells": [
  {
   "cell_type": "code",
   "execution_count": 0,
   "metadata": {
    "application/vnd.databricks.v1+cell": {
     "cellMetadata": {
      "byteLimit": 2048000,
      "rowLimit": 10000
     },
     "inputWidgets": {},
     "nuid": "44f0fd46-de13-4fc5-9675-1b4760f10a75",
     "showTitle": false,
     "tableResultSettingsMap": {},
     "title": ""
    }
   },
   "outputs": [],
   "source": [
    "import pyspark.sql.functions as F"
   ]
  },
  {
   "cell_type": "code",
   "execution_count": 0,
   "metadata": {
    "application/vnd.databricks.v1+cell": {
     "cellMetadata": {
      "byteLimit": 2048000,
      "rowLimit": 10000
     },
     "inputWidgets": {},
     "nuid": "5953304e-6220-4caa-8da1-9da750aaa062",
     "showTitle": false,
     "tableResultSettingsMap": {},
     "title": ""
    }
   },
   "outputs": [],
   "source": [
    "fato_envios_final = spark.table(\"grao.silver.fato_envios\")\n",
    "dim_localizacao = spark.table(\"grao.silver.dim_localizacao\")\n",
    "dim_metodo_envio = spark.table(\"grao.silver.dim_metodo_envio\")\n",
    "df_calendario = spark.table(\"grao.bronze.calendario\") # Usando a do bronze, que já é uma dimensão\n"
   ]
  },
  {
   "cell_type": "code",
   "execution_count": 0,
   "metadata": {
    "application/vnd.databricks.v1+cell": {
     "cellMetadata": {
      "byteLimit": 2048000,
      "rowLimit": 10000
     },
     "inputWidgets": {},
     "nuid": "d41daf18-e379-4867-8169-ada169e4f7bd",
     "showTitle": false,
     "tableResultSettingsMap": {},
     "title": ""
    }
   },
   "outputs": [],
   "source": [
    "print(\"--- Criando Tabela Gold 1: Gold_Vendas_por_Destino ---\")\n",
    "\n",
    "gold_vendas_destino = (\n",
    "    fato_envios_final\n",
    "    .join(dim_localizacao, \"id_localizacao\", \"left\")\n",
    "    .groupBy(\"Destino\")\n",
    "    .agg(\n",
    "        F.sum(\"preco\").alias(\"receita_total\"),\n",
    "        F.count(\"id_envio\").alias(\"total_de_envios\"),\n",
    "        F.sum(\"qtd_itens\").alias(\"total_itens_vendidos\"),\n",
    "        F.round(F.avg(\"preco\"), 2).alias(\"valor_medio_por_envio\")\n",
    "    )\n",
    "    .orderBy(F.col(\"receita_total\").desc())\n",
    ")\n",
    "\n",
    "\n",
    "gold_vendas_destino.write.mode(\"overwrite\").format(\"delta\").saveAsTable(\"grao.gold.vendas_por_destino\")\n",
    "print(\"Tabela Gold 'vendas_por_destino' criada com sucesso.\")"
   ]
  }
 ],
 "metadata": {
  "application/vnd.databricks.v1+notebook": {
   "computePreferences": {
    "hardware": {
     "accelerator": null,
     "gpuPoolId": null,
     "memory": null
    }
   },
   "dashboards": [],
   "environmentMetadata": {
    "base_environment": "",
    "environment_version": "2"
   },
   "inputWidgetPreferences": null,
   "language": "python",
   "notebookMetadata": {
    "mostRecentlyExecutedCommandWithImplicitDF": {
     "commandId": 7529065228241172,
     "dataframes": [
      "_sqldf"
     ]
    },
    "pythonIndentUnit": 4
   },
   "notebookName": "ntb_vendas_destino",
   "widgets": {}
  },
  "language_info": {
   "name": "python"
  }
 },
 "nbformat": 4,
 "nbformat_minor": 0
}
