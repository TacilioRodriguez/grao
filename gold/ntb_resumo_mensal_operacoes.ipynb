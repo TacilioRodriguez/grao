{
 "cells": [
  {
   "cell_type": "code",
   "execution_count": 0,
   "metadata": {
    "application/vnd.databricks.v1+cell": {
     "cellMetadata": {
      "byteLimit": 2048000,
      "rowLimit": 10000
     },
     "inputWidgets": {},
     "nuid": "a017b702-e804-4460-8bc4-4abc21dcf983",
     "showTitle": false,
     "tableResultSettingsMap": {},
     "title": ""
    }
   },
   "outputs": [],
   "source": [
    "import pyspark.sql.functions as F\n",
    "from pyspark.sql.window import Window"
   ]
  },
  {
   "cell_type": "code",
   "execution_count": 0,
   "metadata": {
    "application/vnd.databricks.v1+cell": {
     "cellMetadata": {
      "byteLimit": 2048000,
      "rowLimit": 10000
     },
     "inputWidgets": {},
     "nuid": "58d56fc0-c1b2-465e-a33f-8e5635215d0c",
     "showTitle": false,
     "tableResultSettingsMap": {},
     "title": ""
    }
   },
   "outputs": [],
   "source": [
    "fato_envios_final = spark.table(\"grao.silver.fato_envios\")\n",
    "dim_localizacao = spark.table(\"grao.silver.dim_localizacao\")\n",
    "dim_metodo_envio = spark.table(\"grao.silver.dim_metodo_envio\")\n",
    "df_calendario = spark.table(\"grao.bronze.calendario\") "
   ]
  },
  {
   "cell_type": "code",
   "execution_count": 0,
   "metadata": {
    "application/vnd.databricks.v1+cell": {
     "cellMetadata": {
      "byteLimit": 2048000,
      "rowLimit": 10000
     },
     "inputWidgets": {},
     "nuid": "a5aaff46-fa97-4073-80ed-7882702465c1",
     "showTitle": false,
     "tableResultSettingsMap": {},
     "title": ""
    }
   },
   "outputs": [],
   "source": [
    "df_calendario_com_id = (\n",
    "    spark.table(\"grao.bronze.calendario\")\n",
    "    .withColumn(\"id_data\", F.row_number().over(Window.orderBy(\"data\")))\n",
    ")"
   ]
  },
  {
   "cell_type": "code",
   "execution_count": 0,
   "metadata": {
    "application/vnd.databricks.v1+cell": {
     "cellMetadata": {
      "byteLimit": 2048000,
      "rowLimit": 10000
     },
     "inputWidgets": {},
     "nuid": "636954fc-99b1-4039-9811-f7cfcbb6c45b",
     "showTitle": false,
     "tableResultSettingsMap": {},
     "title": ""
    }
   },
   "outputs": [],
   "source": [
    "print(\"\\n--- Criando Tabela Gold 3: Gold_Resumo_Mensal_Operacoes ---\")\n",
    "\n",
    "gold_resumo_mensal = (\n",
    "    fato_envios_final \n",
    "    .join(\n",
    "        df_calendario_com_id, \n",
    "        fato_envios_final[\"id_data_envio\"] == df_calendario_com_id[\"id_data\"], \n",
    "        \"left\"\n",
    "    )\n",
    "    .groupBy(\"ano\", \"mes\") \n",
    "    .agg(\n",
    "        F.sum(\"preco\").alias(\"receita_total_mensal\"),\n",
    "        F.count(\"id_envio\").alias(\"total_envios_mensal\"),\n",
    "        F.round((F.sum(\"peso_g\") / 1000), 2).alias(\"peso_total_transportado_kg\")\n",
    "    )\n",
    "    .orderBy(\"ano\", \"mes\")\n",
    ")\n",
    "\n",
    "\n",
    "gold_resumo_mensal.write.mode(\"overwrite\").format(\"delta\").saveAsTable(\"grao.gold.resumo_mensal_operacoes\")\n",
    "print(\"Tabela Gold 'resumo_mensal_operacoes' criada com sucesso.\")"
   ]
  }
 ],
 "metadata": {
  "application/vnd.databricks.v1+notebook": {
   "computePreferences": {
    "hardware": {
     "accelerator": null,
     "gpuPoolId": null,
     "memory": null
    }
   },
   "dashboards": [],
   "environmentMetadata": {
    "base_environment": "",
    "environment_version": "2"
   },
   "inputWidgetPreferences": null,
   "language": "python",
   "notebookMetadata": {
    "pythonIndentUnit": 4
   },
   "notebookName": "ntb_resumo_mensal_operacoes",
   "widgets": {}
  },
  "language_info": {
   "name": "python"
  }
 },
 "nbformat": 4,
 "nbformat_minor": 0
}
