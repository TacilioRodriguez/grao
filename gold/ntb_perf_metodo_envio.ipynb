{
 "cells": [
  {
   "cell_type": "code",
   "execution_count": 0,
   "metadata": {
    "application/vnd.databricks.v1+cell": {
     "cellMetadata": {
      "byteLimit": 2048000,
      "rowLimit": 10000
     },
     "inputWidgets": {},
     "nuid": "e62770de-4470-4721-9ab8-ecdd2f1fb876",
     "showTitle": false,
     "tableResultSettingsMap": {},
     "title": ""
    }
   },
   "outputs": [],
   "source": [
    "import pyspark.sql.functions as F"
   ]
  },
  {
   "cell_type": "code",
   "execution_count": 0,
   "metadata": {
    "application/vnd.databricks.v1+cell": {
     "cellMetadata": {
      "byteLimit": 2048000,
      "rowLimit": 10000
     },
     "inputWidgets": {},
     "nuid": "f013539e-6790-4a47-ba85-0476ff94c039",
     "showTitle": false,
     "tableResultSettingsMap": {},
     "title": ""
    }
   },
   "outputs": [],
   "source": [
    "fato_envios_final = spark.table(\"grao.silver.fato_envios\")\n",
    "dim_localizacao = spark.table(\"grao.silver.dim_localizacao\")\n",
    "dim_metodo_envio = spark.table(\"grao.silver.dim_metodo_envio\")\n",
    "df_calendario = spark.table(\"grao.bronze.calendario\") "
   ]
  },
  {
   "cell_type": "code",
   "execution_count": 0,
   "metadata": {
    "application/vnd.databricks.v1+cell": {
     "cellMetadata": {
      "byteLimit": 2048000,
      "rowLimit": 10000
     },
     "inputWidgets": {},
     "nuid": "61c4b4c4-640e-45d7-a956-595abb67fe27",
     "showTitle": false,
     "tableResultSettingsMap": {},
     "title": ""
    }
   },
   "outputs": [],
   "source": [
    "print(\"\\n--- Criando Tabela Gold 2: Gold_Performance_por_Metodo_Envio ---\")\n",
    "\n",
    "\n",
    "gold_performance_metodo = (\n",
    "    fato_envios_final\n",
    "    .join(dim_metodo_envio, \"id_metodo_envio\", \"left\")\n",
    "    .groupBy(\"metodo_de_envio\")\n",
    "    .agg(\n",
    "        F.round((F.avg(\"chegou_no_tempo\") * 100), 2).alias(\"taxa_entrega_no_prazo_percent\"),\n",
    "        F.round(F.avg(\"avaliacaoentrega\"), 2).alias(\"avaliacao_media_da_entrega\"),\n",
    "        F.count(\"id_envio\").alias(\"total_de_envios\")\n",
    "    )\n",
    "    .orderBy(F.col(\"taxa_entrega_no_prazo_percent\").desc())\n",
    ")\n",
    "\n",
    "\n",
    "gold_performance_metodo.write.mode(\"overwrite\").format(\"delta\").saveAsTable(\"grao.gold.performance_por_metodo_envio\")\n",
    "\n",
    "print(\"Tabela Gold 'performance_por_metodo_envio' criada com sucesso.\")\n"
   ]
  }
 ],
 "metadata": {
  "application/vnd.databricks.v1+notebook": {
   "computePreferences": {
    "hardware": {
     "accelerator": null,
     "gpuPoolId": null,
     "memory": null
    }
   },
   "dashboards": [],
   "environmentMetadata": {
    "base_environment": "",
    "environment_version": "2"
   },
   "inputWidgetPreferences": null,
   "language": "python",
   "notebookMetadata": {
    "pythonIndentUnit": 4
   },
   "notebookName": "ntb_perf_metodo_envio",
   "widgets": {}
  },
  "language_info": {
   "name": "python"
  }
 },
 "nbformat": 4,
 "nbformat_minor": 0
}
