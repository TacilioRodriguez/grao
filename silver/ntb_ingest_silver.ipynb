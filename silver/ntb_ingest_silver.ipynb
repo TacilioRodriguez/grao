{
 "cells": [
  {
   "cell_type": "code",
   "execution_count": 0,
   "metadata": {
    "application/vnd.databricks.v1+cell": {
     "cellMetadata": {
      "byteLimit": 2048000,
      "rowLimit": 10000
     },
     "inputWidgets": {},
     "nuid": "42d82342-2712-438d-aa76-b4ec206f1f8c",
     "showTitle": false,
     "tableResultSettingsMap": {},
     "title": ""
    }
   },
   "outputs": [],
   "source": [
    "import pyspark.sql.functions as F\n",
    "from pyspark.sql.types import *\n",
    "from pyspark.sql.window import Window"
   ]
  },
  {
   "cell_type": "code",
   "execution_count": 0,
   "metadata": {
    "application/vnd.databricks.v1+cell": {
     "cellMetadata": {
      "byteLimit": 2048000,
      "rowLimit": 10000
     },
     "inputWidgets": {},
     "nuid": "7d1b383c-face-4a30-a5cf-2480d0ab4a8f",
     "showTitle": false,
     "tableResultSettingsMap": {
      "0": {
       "dataGridStateBlob": "{\"version\":1,\"tableState\":{\"columnPinning\":{\"left\":[\"#row_number#\"],\"right\":[]},\"columnSizing\":{},\"columnVisibility\":{}},\"settings\":{\"columns\":{}},\"syncTimestamp\":1754253891560}",
       "filterBlob": null,
       "queryPlanFiltersBlob": null,
       "tableResultIndex": 0
      }
     },
     "title": ""
    }
   },
   "outputs": [],
   "source": [
    "df = spark.table(\"grao.bronze.grain_shipping\")\n",
    "\n",
    "duplicados = df.groupBy(\"id_envio\").count().filter(F.col(\"count\") > 1 )\n",
    "\n",
    "window_spec = Window.partitionBy(\"id_envio\")\n",
    "df = df.withColumn(\"valid\", F.when(F.count(\"id_envio\").over(window_spec) == 1, F.lit(1)).otherwise(F.lit(0)))\n",
    "if duplicados.count() > 0:\n",
    "    duplicados.display()\n",
    "    print(f\"Existem id_envio duplicados no dataframe {duplicados.count()}\")\n",
    "else:\n",
    "    print(\"Não existem id_duplicados\")"
   ]
  },
  {
   "cell_type": "code",
   "execution_count": 0,
   "metadata": {
    "application/vnd.databricks.v1+cell": {
     "cellMetadata": {
      "byteLimit": 2048000,
      "rowLimit": 10000
     },
     "inputWidgets": {},
     "nuid": "ff34b24d-0ae0-4b1c-8a2a-d8f07d389c92",
     "showTitle": true,
     "tableResultSettingsMap": {},
     "title": "Filtra somente dados validos"
    }
   },
   "outputs": [],
   "source": [
    "df = df.filter(F.col(\"valid\") == 1)"
   ]
  },
  {
   "cell_type": "code",
   "execution_count": 0,
   "metadata": {
    "application/vnd.databricks.v1+cell": {
     "cellMetadata": {
      "byteLimit": 2048000,
      "rowLimit": 10000
     },
     "inputWidgets": {},
     "nuid": "a8605acb-df9c-464e-b7aa-601404acf774",
     "showTitle": false,
     "tableResultSettingsMap": {},
     "title": ""
    }
   },
   "outputs": [],
   "source": [
    "df = (\n",
    "    df\n",
    "    .withColumn(\"id_envio\", F.col(\"id_envio\").cast(IntegerType()))\n",
    "    .withColumn(\"ligacoes_do_cliente\", F.col(\"ligações_do_cliente\").cast(IntegerType()))\n",
    "    .withColumn(\"avaliacao_do_cliente\", F.col(\"avaliação_do_cliente\").cast(IntegerType()))\n",
    "    .withColumn(\"preco\", F.col(\"preço\").cast(FloatType()))\n",
    "    .withColumn(\"qtd_itens\", F.col(\"qtd_itens\").cast(IntegerType()))\n",
    "    .withColumn(\"desconto\", F.col(\"desconto\").cast(FloatType()))\n",
    "    .withColumn(\"peso_g\", F.col(\"peso_g\").cast(FloatType()))\n",
    "    .withColumn(\"avaliacaoEntrega\", F.col(\"avaliacaoEntrega\").cast(IntegerType()))\n",
    "    .withColumn(\"dtIngest\", F.col(\"dtIngest\").cast(TimestampType()))\n",
    ")"
   ]
  },
  {
   "cell_type": "code",
   "execution_count": 0,
   "metadata": {
    "application/vnd.databricks.v1+cell": {
     "cellMetadata": {
      "byteLimit": 2048000,
      "rowLimit": 10000
     },
     "inputWidgets": {},
     "nuid": "f7e3c441-1edb-435f-b60f-1ef0b2388bb7",
     "showTitle": true,
     "tableResultSettingsMap": {},
     "title": "Tb Calendario"
    }
   },
   "outputs": [],
   "source": [
    "df_calendario = spark.table(\"grao.bronze.calendario\")"
   ]
  },
  {
   "cell_type": "code",
   "execution_count": 0,
   "metadata": {
    "application/vnd.databricks.v1+cell": {
     "cellMetadata": {
      "byteLimit": 2048000,
      "rowLimit": 10000
     },
     "inputWidgets": {},
     "nuid": "71bfd605-408a-4b9c-8c4a-1c960436d9df",
     "showTitle": true,
     "tableResultSettingsMap": {},
     "title": "Join com a tabela de Dalendario"
    }
   },
   "outputs": [],
   "source": [
    "df_2 = df.join(df_calendario, df.DataEnvio == df_calendario.data_completa, \"inner\")\n",
    "df_2 = df_2.withColumnRenamed(\"data\", \"dtenvio\")\n",
    "df_2 = df_2.join(df_calendario, df.dataEntrega == df_calendario.data_completa, \"inner\")\n",
    "df_2 = df_2.withColumnRenamed(\"data\", \"dtentrega\").drop(\"ligações_do_cliente\", \"avaliação_do_cliente\", \"preço\")"
   ]
  },
  {
   "cell_type": "code",
   "execution_count": 0,
   "metadata": {
    "application/vnd.databricks.v1+cell": {
     "cellMetadata": {
      "byteLimit": 2048000,
      "rowLimit": 10000
     },
     "inputWidgets": {},
     "nuid": "cea37d10-0a9b-46c3-9441-396bc5525db4",
     "showTitle": true,
     "tableResultSettingsMap": {},
     "title": "padroniza colunas do df"
    }
   },
   "outputs": [],
   "source": [
    "df_final = df_2\n",
    "for col_name in df_2.columns:\n",
    "    df_final = df_2.withColumnRenamed(col_name, col_name.lower())"
   ]
  },
  {
   "cell_type": "code",
   "execution_count": 0,
   "metadata": {
    "application/vnd.databricks.v1+cell": {
     "cellMetadata": {
      "byteLimit": 2048000,
      "rowLimit": 10000
     },
     "inputWidgets": {},
     "nuid": "0858ac01-d61f-4245-9f9d-b52f83791dae",
     "showTitle": true,
     "tableResultSettingsMap": {},
     "title": "Seleciona somente as colunas necessarias"
    }
   },
   "outputs": [],
   "source": [
    "columns = [   \n",
    "            \"id_envio\",\n",
    "            \"corredor_de_armazenagem\",\n",
    "            \"metodo_de_envio\",\n",
    "            \"ligacoes_do_cliente\",\n",
    "            \"avaliacao_do_cliente\",\n",
    "            \"preco\",\n",
    "            \"qtd_itens\",\n",
    "            \"importancia\",\n",
    "            \"genero\",\n",
    "            \"desconto\",\n",
    "            \"peso_g\",\n",
    "            \"chegou_no_tempo\",\n",
    "            \"destino\",\n",
    "            \"dtenvio\",\n",
    "            \"dtentrega\",\n",
    "            \"avaliacaoentrega\",\n",
    "            \"dtingest\",\n",
    "]\n",
    "\n",
    "df_final = df_final.select(*columns)"
   ]
  },
  {
   "cell_type": "code",
   "execution_count": 0,
   "metadata": {
    "application/vnd.databricks.v1+cell": {
     "cellMetadata": {
      "byteLimit": 2048000,
      "implicitDf": true,
      "rowLimit": 10000
     },
     "inputWidgets": {},
     "nuid": "eb5a9e8a-ad26-4719-9a63-7a99f9b8ef71",
     "showTitle": true,
     "tableResultSettingsMap": {},
     "title": "Grava os Dados na camada Silver"
    }
   },
   "outputs": [],
   "source": [
    "df_final.write.format(\"delta\").mode(\"overwrite\").saveAsTable(\"grao.silver.grain_shipping\")"
   ]
  }
 ],
 "metadata": {
  "application/vnd.databricks.v1+notebook": {
   "computePreferences": {
    "hardware": {
     "accelerator": null,
     "gpuPoolId": null,
     "memory": "HIGH"
    }
   },
   "dashboards": [],
   "environmentMetadata": {
    "base_environment": "",
    "environment_version": "3"
   },
   "inputWidgetPreferences": null,
   "language": "python",
   "notebookMetadata": {
    "mostRecentlyExecutedCommandWithImplicitDF": {
     "commandId": -1,
     "dataframes": [
      "_sqldf"
     ]
    },
    "pythonIndentUnit": 4
   },
   "notebookName": "ntb_ingest_silver",
   "widgets": {}
  },
  "language_info": {
   "name": "python"
  }
 },
 "nbformat": 4,
 "nbformat_minor": 0
}
