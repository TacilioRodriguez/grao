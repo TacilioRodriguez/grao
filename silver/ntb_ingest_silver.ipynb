{
 "cells": [
  {
   "cell_type": "code",
   "execution_count": 0,
   "metadata": {
    "application/vnd.databricks.v1+cell": {
     "cellMetadata": {
      "byteLimit": 2048000,
      "rowLimit": 10000
     },
     "inputWidgets": {},
     "nuid": "42d82342-2712-438d-aa76-b4ec206f1f8c",
     "showTitle": false,
     "tableResultSettingsMap": {},
     "title": ""
    }
   },
   "outputs": [],
   "source": [
    "import pyspark.sql.functions as F\n",
    "from pyspark.sql.types import *\n",
    "from pyspark.sql.window import Window"
   ]
  },
  {
   "cell_type": "code",
   "execution_count": 0,
   "metadata": {
    "application/vnd.databricks.v1+cell": {
     "cellMetadata": {
      "byteLimit": 2048000,
      "rowLimit": 10000
     },
     "inputWidgets": {},
     "nuid": "7d1b383c-face-4a30-a5cf-2480d0ab4a8f",
     "showTitle": false,
     "tableResultSettingsMap": {
      "0": {
       "dataGridStateBlob": "{\"version\":1,\"tableState\":{\"columnPinning\":{\"left\":[\"#row_number#\"],\"right\":[]},\"columnSizing\":{},\"columnVisibility\":{}},\"settings\":{\"columns\":{}},\"syncTimestamp\":1754253891560}",
       "filterBlob": null,
       "queryPlanFiltersBlob": null,
       "tableResultIndex": 0
      }
     },
     "title": ""
    }
   },
   "outputs": [],
   "source": [
    "df_bronze = spark.table(\"grao.bronze.grain_shipping\")\n",
    "\n",
    "duplicados = df_bronze.groupBy(\"id_envio\").count().filter(F.col(\"count\") > 1 )\n",
    "\n",
    "window_spec = Window.partitionBy(\"id_envio\")\n",
    "df_bronze = df_bronze.withColumn(\"valid\", F.when(F.count(\"id_envio\").over(window_spec) == 1, F.lit(1)).otherwise(F.lit(0)))\n",
    "if duplicados.count() > 0:\n",
    "    duplicados.display()\n",
    "    print(f\"Existem id_envio duplicados no dataframe {duplicados.count()}\")\n",
    "else:\n",
    "    print(\"Não existem id_duplicados\")"
   ]
  },
  {
   "cell_type": "code",
   "execution_count": 0,
   "metadata": {
    "application/vnd.databricks.v1+cell": {
     "cellMetadata": {
      "byteLimit": 2048000,
      "rowLimit": 10000
     },
     "inputWidgets": {},
     "nuid": "8ecb793c-2c66-4cb9-a77d-3974d2ed3dd0",
     "showTitle": false,
     "tableResultSettingsMap": {},
     "title": ""
    }
   },
   "outputs": [],
   "source": [
    "def clean_col_names(df):\n",
    "    \"\"\"\n",
    "    Renomeia as colunas de um DataFrame:\n",
    "    - Remove acentos e caracteres especiais.\n",
    "    - Converte para minúsculas.\n",
    "    \"\"\"\n",
    "    new_column_names = []\n",
    "    \n",
    "    # Itera sobre a lista de nomes de colunas (que são strings)\n",
    "    for name in df.columns:\n",
    "        \n",
    "        # Converte para minúsculas\n",
    "        clean_name = name.lower()\n",
    "        \n",
    "        # Remove acentos e caracteres especiais comuns no seu schema\n",
    "        clean_name = clean_name.replace('ã', 'a').replace('ç', 'c').replace('é', 'e').replace('á', 'a').replace('õ', 'o')\n",
    "        \n",
    "        # Remove qualquer caractere que não seja letra, número ou underscore (_)\n",
    "        import re\n",
    "        clean_name = re.sub(r'[^a-z0-9_]', '', clean_name)\n",
    "        \n",
    "        new_column_names.append(clean_name)\n",
    "\n",
    "    \n",
    "    return df.toDF(*new_column_names)"
   ]
  },
  {
   "cell_type": "code",
   "execution_count": 0,
   "metadata": {
    "application/vnd.databricks.v1+cell": {
     "cellMetadata": {
      "byteLimit": 2048000,
      "rowLimit": 10000
     },
     "inputWidgets": {},
     "nuid": "895e0e17-a60c-443f-baed-d72968c2c190",
     "showTitle": false,
     "tableResultSettingsMap": {},
     "title": ""
    }
   },
   "outputs": [],
   "source": [
    "# Aplica a função para obter o DataFrame com as colunas limpas\n",
    "df_bronze = clean_col_names(df_bronze)"
   ]
  },
  {
   "cell_type": "code",
   "execution_count": 0,
   "metadata": {
    "application/vnd.databricks.v1+cell": {
     "cellMetadata": {
      "byteLimit": 2048000,
      "rowLimit": 10000
     },
     "inputWidgets": {},
     "nuid": "30193790-14c1-47de-98ae-fffd4c4fe5fe",
     "showTitle": false,
     "tableResultSettingsMap": {},
     "title": ""
    }
   },
   "outputs": [],
   "source": [
    "\n",
    "# Adicionado um ID único à tabela calendário para usar como chave estrangeira na fato\n",
    "df_calendario = spark.table(\"grao.bronze.calendario\").withColumn(\n",
    "    \"id_data\", F.row_number().over(Window.orderBy(\"data\"))\n",
    ")"
   ]
  },
  {
   "cell_type": "code",
   "execution_count": 0,
   "metadata": {
    "application/vnd.databricks.v1+cell": {
     "cellMetadata": {
      "byteLimit": 2048000,
      "rowLimit": 10000
     },
     "inputWidgets": {},
     "nuid": "263c5914-dfc9-41d9-a7c9-520c30f18565",
     "showTitle": false,
     "tableResultSettingsMap": {},
     "title": ""
    }
   },
   "outputs": [],
   "source": [
    "# Filtrando somente dados validos da tabela bronze\n",
    "df_bronze = df_bronze.filter(F.col(\"valid\") == 1).drop(F.col(\"valid\"))"
   ]
  },
  {
   "cell_type": "code",
   "execution_count": 0,
   "metadata": {
    "application/vnd.databricks.v1+cell": {
     "cellMetadata": {
      "byteLimit": 2048000,
      "rowLimit": 10000
     },
     "inputWidgets": {},
     "nuid": "45c5b203-f80a-46e6-bb93-82ce2e7378c1",
     "showTitle": true,
     "tableResultSettingsMap": {},
     "title": "1. Dim_Metodo_Envio"
    }
   },
   "outputs": [],
   "source": [
    "print(\"\\n1. Criando Dim_Metodo_Envio...\")\n",
    "dim_metodo_envio = (\n",
    "    df_bronze.select(\"metodo_de_envio\", \"corredor_de_armazenagem\", \"importancia\")\n",
    "    .distinct()\n",
    "    .withColumn(\"id_metodo_envio\", F.row_number().over(Window.orderBy(\"metodo_de_envio\")))\n",
    ")\n",
    "dim_metodo_envio.write.mode(\"overwrite\").format(\"delta\").saveAsTable(\"grao.silver.dim_metodo_envio\")"
   ]
  },
  {
   "cell_type": "code",
   "execution_count": 0,
   "metadata": {
    "application/vnd.databricks.v1+cell": {
     "cellMetadata": {
      "byteLimit": 2048000,
      "rowLimit": 10000
     },
     "inputWidgets": {},
     "nuid": "85768caa-e31b-4c6b-8370-ee4a4b831991",
     "showTitle": true,
     "tableResultSettingsMap": {},
     "title": "2. Dim_Localizacao"
    }
   },
   "outputs": [],
   "source": [
    "print(\"\\n2. Criando Dim_Localizacao...\")\n",
    "dim_localizacao = (\n",
    "    df_bronze.select(\"Destino\")\n",
    "    .distinct()\n",
    "    .withColumn(\"id_localizacao\", F.row_number().over(Window.orderBy(\"Destino\")))\n",
    ")\n",
    "dim_localizacao.write.mode(\"overwrite\").format(\"delta\").saveAsTable(\"grao.silver.dim_localizacao\")"
   ]
  },
  {
   "cell_type": "code",
   "execution_count": 0,
   "metadata": {
    "application/vnd.databricks.v1+cell": {
     "cellMetadata": {
      "byteLimit": 2048000,
      "rowLimit": 10000
     },
     "inputWidgets": {},
     "nuid": "18993dbc-4f95-47e6-8d54-ec10073515d8",
     "showTitle": true,
     "tableResultSettingsMap": {},
     "title": "3. Dim_Cliente"
    }
   },
   "outputs": [],
   "source": [
    "print(\"\\n3. Criando Dim_Cliente...\")\n",
    "dim_cliente = (\n",
    "    df_bronze.select(\"genero\")\n",
    "    .distinct()\n",
    "    .withColumn(\"id_cliente\", F.row_number().over(Window.orderBy(\"genero\")))\n",
    ")\n",
    "dim_cliente.write.mode(\"overwrite\").format(\"delta\").saveAsTable(\"grao.silver.dim_cliente\")"
   ]
  },
  {
   "cell_type": "code",
   "execution_count": 0,
   "metadata": {
    "application/vnd.databricks.v1+cell": {
     "cellMetadata": {
      "byteLimit": 2048000,
      "rowLimit": 10000
     },
     "inputWidgets": {},
     "nuid": "18cf2da9-d0d3-49dc-bfbc-df84c837a04d",
     "showTitle": true,
     "tableResultSettingsMap": {},
     "title": "CRIAÇÃO DA TABELA FATO (SILVER)"
    }
   },
   "outputs": [],
   "source": [
    "print(\"\\n--- Criando Tabela Fato usando a Tabela Calendário ---\")\n",
    "\n",
    "\n",
    "cal_envio = df_calendario.alias(\"cal_envio\")\n",
    "cal_entrega = df_calendario.alias(\"cal_entrega\")\n",
    "\n",
    "\n",
    "fato_envios = (\n",
    "    df_bronze\n",
    "    # JOIN para buscar o ID da data de ENVIO pela coluna de texto completo\n",
    "    .join(\n",
    "        cal_envio,\n",
    "        df_bronze[\"DataEnvio\"] == F.col(\"cal_envio.data_completa\"),\n",
    "        \"left\"\n",
    "    )\n",
    "    # JOIN para buscar o ID da data de ENTREGA pela coluna de texto completo\n",
    "    .join(\n",
    "        cal_entrega,\n",
    "        df_bronze[\"dataEntrega\"] == F.col(\"cal_entrega.data_completa\"),\n",
    "        \"left\"\n",
    "    )\n",
    "    # JOIN para buscar o ID do método de envio\n",
    "    .join(\n",
    "        dim_metodo_envio,\n",
    "        [\"metodo_de_envio\", \"corredor_de_armazenagem\", \"importancia\"], # Join em múltiplas colunas\n",
    "        \"left\"\n",
    "    )\n",
    "    # JOIN para buscar o ID da localização\n",
    "    .join(dim_localizacao, \"Destino\", \"left\")\n",
    "    # JOIN para buscar o ID do cliente\n",
    "    .join(dim_cliente, \"genero\", \"left\")\n",
    ")\n",
    "\n",
    "# Selecionamos as colunas da tabela fato final\n",
    "fato_envios_final = fato_envios.select(\n",
    "    F.col(\"id_envio\"),\n",
    "    F.col(\"id_metodo_envio\"),\n",
    "    F.col(\"id_localizacao\"),\n",
    "    F.col(\"id_cliente\"),\n",
    "    F.col(\"cal_envio.id_data\").alias(\"id_data_envio\"),\n",
    "    F.col(\"cal_entrega.id_data\").alias(\"id_data_entrega\"),\n",
    "    F.col(\"ligacoes_do_cliente\"),\n",
    "    F.col(\"avaliacao_do_cliente\"),\n",
    "    F.col(\"preco\"),\n",
    "    F.col(\"qtd_itens\"),\n",
    "    F.col(\"desconto\"),\n",
    "    F.col(\"peso_g\"),\n",
    "    F.col(\"chegou_no_tempo\"),\n",
    "    F.col(\"avaliacaoentrega\")\n",
    ")\n",
    "\n",
    "\n",
    "fato_envios_final.write.mode(\"overwrite\").format(\"delta\").saveAsTable(\"grao.silver.fato_envios\")\n",
    "print(\"Processo finalizado com sucesso !!\")"
   ]
  }
 ],
 "metadata": {
  "application/vnd.databricks.v1+notebook": {
   "computePreferences": {
    "hardware": {
     "accelerator": null,
     "gpuPoolId": null,
     "memory": null
    }
   },
   "dashboards": [],
   "environmentMetadata": {
    "base_environment": "",
    "environment_version": "3"
   },
   "inputWidgetPreferences": null,
   "language": "python",
   "notebookMetadata": {
    "mostRecentlyExecutedCommandWithImplicitDF": {
     "commandId": 7529065228241156,
     "dataframes": [
      "_sqldf"
     ]
    },
    "pythonIndentUnit": 4
   },
   "notebookName": "ntb_ingest_silver",
   "widgets": {}
  },
  "language_info": {
   "name": "python"
  }
 },
 "nbformat": 4,
 "nbformat_minor": 0
}
