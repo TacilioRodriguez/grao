{
 "cells": [
  {
   "cell_type": "code",
   "execution_count": 0,
   "metadata": {
    "application/vnd.databricks.v1+cell": {
     "cellMetadata": {
      "byteLimit": 2048000,
      "rowLimit": 10000
     },
     "inputWidgets": {},
     "nuid": "42d82342-2712-438d-aa76-b4ec206f1f8c",
     "showTitle": false,
     "tableResultSettingsMap": {},
     "title": ""
    }
   },
   "outputs": [],
   "source": [
    "import pyspark.sql.functions as F\n",
    "from pyspark.sql.types import *"
   ]
  },
  {
   "cell_type": "code",
   "execution_count": 0,
   "metadata": {
    "application/vnd.databricks.v1+cell": {
     "cellMetadata": {
      "byteLimit": 2048000,
      "rowLimit": 10000
     },
     "inputWidgets": {},
     "nuid": "a8605acb-df9c-464e-b7aa-601404acf774",
     "showTitle": false,
     "tableResultSettingsMap": {},
     "title": ""
    }
   },
   "outputs": [],
   "source": [
    "\n",
    "df = spark.table(\"grao.bronze.grain_shipping\")\n",
    "df = (\n",
    "    df\n",
    "    .withColumn(\"id_envio\", col(\"id_envio\").cast(IntegerType()))\n",
    "    .withColumn(\"ligacoes_do_cliente\", col(\"ligações_do_cliente\").cast(IntegerType()))\n",
    "    .withColumn(\"avaliacao_do_cliente\", col(\"avaliação_do_cliente\").cast(IntegerType()))\n",
    "    .withColumn(\"preco\", col(\"preço\").cast(FloatType()))\n",
    "    .withColumn(\"qtd_itens\", col(\"qtd_itens\").cast(IntegerType()))\n",
    "    .withColumn(\"desconto\", col(\"desconto\").cast(FloatType()))\n",
    "    .withColumn(\"peso_g\", col(\"peso_g\").cast(FloatType()))\n",
    "    .withColumn(\"avaliacaoEntrega\", col(\"avaliacaoEntrega\").cast(IntegerType()))\n",
    "    .withColumn(\"dtIngest\", col(\"dtIngest\").cast(TimestampType()))\n",
    ")"
   ]
  },
  {
   "cell_type": "code",
   "execution_count": 0,
   "metadata": {
    "application/vnd.databricks.v1+cell": {
     "cellMetadata": {},
     "inputWidgets": {},
     "nuid": "8f5f82cc-ca34-4046-a063-fa88883b547d",
     "showTitle": false,
     "tableResultSettingsMap": {},
     "title": ""
    }
   },
   "outputs": [],
   "source": []
  }
 ],
 "metadata": {
  "application/vnd.databricks.v1+notebook": {
   "computePreferences": {
    "hardware": {
     "accelerator": null,
     "gpuPoolId": null,
     "memory": null
    }
   },
   "dashboards": [],
   "environmentMetadata": {
    "base_environment": "",
    "environment_version": "2"
   },
   "inputWidgetPreferences": null,
   "language": "python",
   "notebookMetadata": {
    "pythonIndentUnit": 4
   },
   "notebookName": "ntb_ingest_silver",
   "widgets": {}
  },
  "language_info": {
   "name": "python"
  }
 },
 "nbformat": 4,
 "nbformat_minor": 0
}
